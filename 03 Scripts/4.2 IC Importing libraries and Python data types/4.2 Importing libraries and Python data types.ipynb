{
 "cells": [
  {
   "cell_type": "markdown",
   "id": "cd1137bb-a250-4dc5-8142-fa745f16b280",
   "metadata": {},
   "source": [
    "# list of contents :\n",
    "\n",
    "## 01.Importing libraries\n",
    "## 02.Data types\n",
    "## 03.Procedures with Data Types\n"
   ]
  },
  {
   "cell_type": "markdown",
   "id": "b2567d64-589d-488b-8dfd-162d83823eed",
   "metadata": {},
   "source": [
    "# 01.Importing libraries"
   ]
  },
  {
   "cell_type": "code",
   "execution_count": 2,
   "id": "9998169b-c511-4517-a985-aaac61ee9a98",
   "metadata": {},
   "outputs": [],
   "source": [
    "# Import libraries\n",
    "import pandas as pd\n",
    "import numpy as np\n",
    "import os"
   ]
  },
  {
   "cell_type": "markdown",
   "id": "f293cd0f-7d48-44b3-a860-1fd8214fe3b7",
   "metadata": {},
   "source": [
    "# 02.Data types"
   ]
  },
  {
   "cell_type": "code",
   "execution_count": 10,
   "id": "0287226c-ee67-46d3-a722-7328519f03e3",
   "metadata": {},
   "outputs": [],
   "source": [
    "x=2"
   ]
  },
  {
   "cell_type": "code",
   "execution_count": 12,
   "id": "26a1121d-17a4-4726-8f26-154c55e5fbd1",
   "metadata": {},
   "outputs": [
    {
     "data": {
      "text/plain": [
       "2"
      ]
     },
     "execution_count": 12,
     "metadata": {},
     "output_type": "execute_result"
    }
   ],
   "source": [
    "x"
   ]
  },
  {
   "cell_type": "code",
   "execution_count": 14,
   "id": "d3971bbd-0079-4da5-b0ac-4b769a8e09dc",
   "metadata": {},
   "outputs": [
    {
     "name": "stdout",
     "output_type": "stream",
     "text": [
      "2\n"
     ]
    }
   ],
   "source": [
    "print (x)"
   ]
  },
  {
   "cell_type": "code",
   "execution_count": 16,
   "id": "8afc195c-6963-42a0-93c6-0ef20ccd48c4",
   "metadata": {},
   "outputs": [
    {
     "data": {
      "text/plain": [
       "int"
      ]
     },
     "execution_count": 16,
     "metadata": {},
     "output_type": "execute_result"
    }
   ],
   "source": [
    "type(x)"
   ]
  },
  {
   "cell_type": "code",
   "execution_count": 18,
   "id": "cca52762-50bd-4158-b17e-c510d104b24d",
   "metadata": {},
   "outputs": [],
   "source": [
    "y=5.678"
   ]
  },
  {
   "cell_type": "code",
   "execution_count": 20,
   "id": "2e045d48-e13d-47cd-8fe4-ef808717754d",
   "metadata": {},
   "outputs": [
    {
     "data": {
      "text/plain": [
       "float"
      ]
     },
     "execution_count": 20,
     "metadata": {},
     "output_type": "execute_result"
    }
   ],
   "source": [
    "type (y)"
   ]
  },
  {
   "cell_type": "code",
   "execution_count": 26,
   "id": "c01c44f9-53d4-48fa-9f69-b95f5f3e4bb4",
   "metadata": {},
   "outputs": [],
   "source": [
    "z= 'Brazil'"
   ]
  },
  {
   "cell_type": "code",
   "execution_count": 24,
   "id": "32135a12-ff82-44f4-b209-3678827e9645",
   "metadata": {},
   "outputs": [
    {
     "data": {
      "text/plain": [
       "str"
      ]
     },
     "execution_count": 24,
     "metadata": {},
     "output_type": "execute_result"
    }
   ],
   "source": [
    "type (z)"
   ]
  },
  {
   "cell_type": "code",
   "execution_count": 28,
   "id": "c88f49b8-de00-40f8-bd76-0f08315a74a2",
   "metadata": {},
   "outputs": [
    {
     "ename": "NameError",
     "evalue": "name 'mania' is not defined",
     "output_type": "error",
     "traceback": [
      "\u001b[1;31m---------------------------------------------------------------------------\u001b[0m",
      "\u001b[1;31mNameError\u001b[0m                                 Traceback (most recent call last)",
      "Cell \u001b[1;32mIn[28], line 1\u001b[0m\n\u001b[1;32m----> 1\u001b[0m \u001b[38;5;28mtype\u001b[39m (mania)\n",
      "\u001b[1;31mNameError\u001b[0m: name 'mania' is not defined"
     ]
    }
   ],
   "source": [
    "type (mania)"
   ]
  },
  {
   "cell_type": "code",
   "execution_count": 30,
   "id": "5b7516a8-708d-4f3a-9c84-a172b9ae61e5",
   "metadata": {},
   "outputs": [
    {
     "data": {
      "text/plain": [
       "str"
      ]
     },
     "execution_count": 30,
     "metadata": {},
     "output_type": "execute_result"
    }
   ],
   "source": [
    "type ('mania')\n"
   ]
  },
  {
   "cell_type": "code",
   "execution_count": 32,
   "id": "2950bf38-d192-4624-be16-66e7b871bd4d",
   "metadata": {},
   "outputs": [
    {
     "data": {
      "text/plain": [
       "bool"
      ]
     },
     "execution_count": 32,
     "metadata": {},
     "output_type": "execute_result"
    }
   ],
   "source": [
    "type (True)\n"
   ]
  },
  {
   "cell_type": "code",
   "execution_count": 34,
   "id": "caed8fce-de51-41a5-877e-03c0abf152e4",
   "metadata": {},
   "outputs": [
    {
     "data": {
      "text/plain": [
       "bool"
      ]
     },
     "execution_count": 34,
     "metadata": {},
     "output_type": "execute_result"
    }
   ],
   "source": [
    "type (False)\n"
   ]
  },
  {
   "cell_type": "markdown",
   "id": "00de1650-5d17-4c6c-9856-cb02f20d61e6",
   "metadata": {},
   "source": [
    "# 03.Procedures with Data Types"
   ]
  },
  {
   "cell_type": "code",
   "execution_count": 36,
   "id": "68fdb62b-3ba6-4c02-9e9f-c1561a97783e",
   "metadata": {},
   "outputs": [
    {
     "name": "stdout",
     "output_type": "stream",
     "text": [
      "2\n"
     ]
    }
   ],
   "source": [
    "print(x)"
   ]
  },
  {
   "cell_type": "code",
   "execution_count": 38,
   "id": "3d6c3476-816e-453f-b232-f2293079ab01",
   "metadata": {},
   "outputs": [
    {
     "data": {
      "text/plain": [
       "6"
      ]
     },
     "execution_count": 38,
     "metadata": {},
     "output_type": "execute_result"
    }
   ],
   "source": [
    "x+4"
   ]
  },
  {
   "cell_type": "code",
   "execution_count": 40,
   "id": "d5ea1517-b8cc-41bf-847c-a84fda72ec18",
   "metadata": {},
   "outputs": [
    {
     "data": {
      "text/plain": [
       "7.678"
      ]
     },
     "execution_count": 40,
     "metadata": {},
     "output_type": "execute_result"
    }
   ],
   "source": [
    "x+y"
   ]
  },
  {
   "cell_type": "code",
   "execution_count": 42,
   "id": "4d3d04f3-c45d-43f9-b12c-0cc25d332955",
   "metadata": {},
   "outputs": [
    {
     "name": "stdout",
     "output_type": "stream",
     "text": [
      "6\n"
     ]
    }
   ],
   "source": [
    "x=x+4\n",
    "print(x)"
   ]
  },
  {
   "cell_type": "code",
   "execution_count": 46,
   "id": "06c5931d-9c17-4002-b8f2-d9f6555a553a",
   "metadata": {},
   "outputs": [
    {
     "data": {
      "text/plain": [
       "'hello, Marley'"
      ]
     },
     "execution_count": 46,
     "metadata": {},
     "output_type": "execute_result"
    }
   ],
   "source": [
    "a='hello, '\n",
    "b= 'Marley'\n",
    "a+b"
   ]
  },
  {
   "cell_type": "code",
   "execution_count": 48,
   "id": "b9d4610e-89fa-42c6-851f-ee37ca4b4195",
   "metadata": {},
   "outputs": [
    {
     "ename": "TypeError",
     "evalue": "unsupported operand type(s) for -: 'str' and 'str'",
     "output_type": "error",
     "traceback": [
      "\u001b[1;31m---------------------------------------------------------------------------\u001b[0m",
      "\u001b[1;31mTypeError\u001b[0m                                 Traceback (most recent call last)",
      "Cell \u001b[1;32mIn[48], line 1\u001b[0m\n\u001b[1;32m----> 1\u001b[0m \u001b[38;5;124m'\u001b[39m\u001b[38;5;124mfootball\u001b[39m\u001b[38;5;124m'\u001b[39m \u001b[38;5;241m-\u001b[39m \u001b[38;5;124m'\u001b[39m\u001b[38;5;124mfoot\u001b[39m\u001b[38;5;124m'\u001b[39m\n",
      "\u001b[1;31mTypeError\u001b[0m: unsupported operand type(s) for -: 'str' and 'str'"
     ]
    }
   ],
   "source": [
    "'football' - 'foot'"
   ]
  },
  {
   "cell_type": "code",
   "execution_count": 50,
   "id": "4ecb8001-895b-4df0-91f2-5c0dc8236438",
   "metadata": {},
   "outputs": [],
   "source": [
    "n = 'potato'"
   ]
  },
  {
   "cell_type": "code",
   "execution_count": 52,
   "id": "4213a488-b12e-4a28-a023-a3363e13f15a",
   "metadata": {},
   "outputs": [
    {
     "data": {
      "text/plain": [
       "'potatopotatopotatopotatopotatopotatopotatopotatopotatopotatopotatopotato'"
      ]
     },
     "execution_count": 52,
     "metadata": {},
     "output_type": "execute_result"
    }
   ],
   "source": [
    "n*12"
   ]
  },
  {
   "cell_type": "code",
   "execution_count": 54,
   "id": "70d5cb88-dbd6-4e82-bad0-aabf781d4612",
   "metadata": {},
   "outputs": [
    {
     "data": {
      "text/plain": [
       "False"
      ]
     },
     "execution_count": 54,
     "metadata": {},
     "output_type": "execute_result"
    }
   ],
   "source": [
    "x==y"
   ]
  },
  {
   "cell_type": "code",
   "execution_count": 56,
   "id": "0964f201-a16e-4539-986b-67f9fe506a0c",
   "metadata": {},
   "outputs": [
    {
     "data": {
      "text/plain": [
       "bool"
      ]
     },
     "execution_count": 56,
     "metadata": {},
     "output_type": "execute_result"
    }
   ],
   "source": [
    "type (x==y)"
   ]
  },
  {
   "cell_type": "code",
   "execution_count": null,
   "id": "1b0da234-b8a8-4942-a96b-0e390ac52165",
   "metadata": {},
   "outputs": [],
   "source": []
  }
 ],
 "metadata": {
  "kernelspec": {
   "display_name": "Python 3 (ipykernel)",
   "language": "python",
   "name": "python3"
  },
  "language_info": {
   "codemirror_mode": {
    "name": "ipython",
    "version": 3
   },
   "file_extension": ".py",
   "mimetype": "text/x-python",
   "name": "python",
   "nbconvert_exporter": "python",
   "pygments_lexer": "ipython3",
   "version": "3.12.7"
  }
 },
 "nbformat": 4,
 "nbformat_minor": 5
}
