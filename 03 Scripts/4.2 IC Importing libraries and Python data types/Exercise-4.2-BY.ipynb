{
 "cells": [
  {
   "cell_type": "markdown",
   "id": "b5d9dd01-5961-4262-abe6-4836b2598b0a",
   "metadata": {},
   "source": [
    "##  Contents\n",
    "### 01.Importing Librairies\n",
    "### 02. Working with Python data types\n",
    "#### 2.1. Code 3 different ways of reaching a result of 100\n",
    "#### 2.2. Code 2 floating-point variables and divide them by each other\n",
    "#### 2.3. Working with string data type\n"
   ]
  },
  {
   "cell_type": "markdown",
   "id": "c7ca7f55-8276-4c10-aa53-8ce4bebcb768",
   "metadata": {},
   "source": [
    "# 01.Importing Librairies\n"
   ]
  },
  {
   "cell_type": "code",
   "execution_count": 5,
   "id": "e1936d41-c2d1-48ba-b8c9-bf90ed531d0f",
   "metadata": {},
   "outputs": [],
   "source": [
    "# import libraries"
   ]
  },
  {
   "cell_type": "code",
   "execution_count": 7,
   "id": "dd634e25-a59b-43d7-9829-8604ec4158ce",
   "metadata": {},
   "outputs": [],
   "source": [
    "import pandas as pd\n",
    "import numpy as np\n",
    "import os"
   ]
  },
  {
   "cell_type": "markdown",
   "id": "b0c75a55-31df-4825-9b9f-1ba6e0a6a812",
   "metadata": {},
   "source": [
    "# 02. Working with Python data types"
   ]
  },
  {
   "cell_type": "markdown",
   "id": "e8becce2-9d4e-4d67-a7fb-242aa76c5216",
   "metadata": {},
   "source": [
    "## 2.1. Code 3 different ways of reaching a result of 100"
   ]
  },
  {
   "cell_type": "code",
   "execution_count": 13,
   "id": "b156093b-1ac6-44a5-bd02-2f9ceef2a37a",
   "metadata": {},
   "outputs": [
    {
     "name": "stdout",
     "output_type": "stream",
     "text": [
      "100\n"
     ]
    }
   ],
   "source": [
    "# first way :\n",
    "x= 30\n",
    "y= 70\n",
    "print (x+y)"
   ]
  },
  {
   "cell_type": "code",
   "execution_count": 15,
   "id": "3bc3702e-2d44-4687-8b7b-945f8cf87acc",
   "metadata": {},
   "outputs": [
    {
     "name": "stdout",
     "output_type": "stream",
     "text": [
      "100\n"
     ]
    }
   ],
   "source": [
    "# second way :\n",
    "x=150\n",
    "y=50\n",
    "print (x-y)"
   ]
  },
  {
   "cell_type": "code",
   "execution_count": 17,
   "id": "6569d02a-bb75-49fb-bf0d-38df410729ff",
   "metadata": {},
   "outputs": [
    {
     "name": "stdout",
     "output_type": "stream",
     "text": [
      "100\n"
     ]
    }
   ],
   "source": [
    "# third way :\n",
    "x=30\n",
    "y=40\n",
    "z=50\n",
    "w=20\n",
    "print ((x+y+z)-w)"
   ]
  },
  {
   "cell_type": "markdown",
   "id": "22789ce0-b349-4b8c-a5dc-7b9b4eb5396d",
   "metadata": {},
   "source": [
    "## 2.2. Code 2 floating-point variables and divide them by each other"
   ]
  },
  {
   "cell_type": "code",
   "execution_count": 20,
   "id": "c7955c19-ca04-4d96-bf1f-b31ff5bf4a26",
   "metadata": {},
   "outputs": [
    {
     "name": "stdout",
     "output_type": "stream",
     "text": [
      "5.32\n"
     ]
    }
   ],
   "source": [
    "x= 5.32\n",
    "print (x)"
   ]
  },
  {
   "cell_type": "code",
   "execution_count": 22,
   "id": "8f648168-60bb-46fa-b1a6-e3d8350a37ba",
   "metadata": {},
   "outputs": [
    {
     "name": "stdout",
     "output_type": "stream",
     "text": [
      "7.49\n"
     ]
    }
   ],
   "source": [
    "y = 7.49\n",
    "print (y)"
   ]
  },
  {
   "cell_type": "code",
   "execution_count": 26,
   "id": "385b37c8-78f4-42c2-a46e-08e8c9a580e0",
   "metadata": {},
   "outputs": [
    {
     "name": "stdout",
     "output_type": "stream",
     "text": [
      "0.7102803738317757\n"
     ]
    },
    {
     "data": {
      "text/plain": [
       "float"
      ]
     },
     "execution_count": 26,
     "metadata": {},
     "output_type": "execute_result"
    }
   ],
   "source": [
    "z= x/y\n",
    "print (z)\n",
    "type (z)"
   ]
  },
  {
   "cell_type": "markdown",
   "id": "88fe2430-3d1d-43e3-a0f1-309559500eda",
   "metadata": {},
   "source": [
    "## 2.3. Working with string data type"
   ]
  },
  {
   "cell_type": "code",
   "execution_count": 44,
   "id": "6204b144-2730-4e8c-8d5a-05bb9753a02d",
   "metadata": {},
   "outputs": [
    {
     "name": "stdout",
     "output_type": "stream",
     "text": [
      "Hello Sir\n"
     ]
    }
   ],
   "source": [
    "#onstruct a schort word made of seperate strings\n",
    "x='Hello '\n",
    "y='Sir'\n",
    "print (x+y)"
   ]
  },
  {
   "cell_type": "code",
   "execution_count": 50,
   "id": "4aaf6c6a-9ba0-4c5d-97d3-e1c797d82709",
   "metadata": {},
   "outputs": [
    {
     "name": "stdout",
     "output_type": "stream",
     "text": [
      "I want to became a good Data Analyst\n"
     ]
    }
   ],
   "source": [
    "#Construct 2 short sentences made of separate strings\n",
    "x= 'I want '\n",
    "y= 'to became '\n",
    "z= 'a good '\n",
    "w= 'Data Analyst'\n",
    "print(x+y+z+w)"
   ]
  },
  {
   "cell_type": "code",
   "execution_count": 52,
   "id": "cb3844e2-8356-4227-b130-5b22aa8780fa",
   "metadata": {},
   "outputs": [
    {
     "name": "stdout",
     "output_type": "stream",
     "text": [
      "But I need your help\n"
     ]
    }
   ],
   "source": [
    "x= 'But '\n",
    "y= 'I need '\n",
    "z= 'your help'\n",
    "print (x+y+z)"
   ]
  },
  {
   "cell_type": "code",
   "execution_count": null,
   "id": "0258c3f5-6ffe-4f07-8cbd-53f7608b8eb7",
   "metadata": {},
   "outputs": [],
   "source": []
  }
 ],
 "metadata": {
  "kernelspec": {
   "display_name": "Python 3 (ipykernel)",
   "language": "python",
   "name": "python3"
  },
  "language_info": {
   "codemirror_mode": {
    "name": "ipython",
    "version": 3
   },
   "file_extension": ".py",
   "mimetype": "text/x-python",
   "name": "python",
   "nbconvert_exporter": "python",
   "pygments_lexer": "ipython3",
   "version": "3.12.7"
  }
 },
 "nbformat": 4,
 "nbformat_minor": 5
}
