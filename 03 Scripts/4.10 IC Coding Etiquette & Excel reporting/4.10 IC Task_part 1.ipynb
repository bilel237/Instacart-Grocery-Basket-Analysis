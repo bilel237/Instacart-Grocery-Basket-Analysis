{
 "cells": [
  {
   "cell_type": "markdown",
   "id": "8f9e283f-d537-406e-aaf5-f50914e09fcb",
   "metadata": {},
   "source": [
    "### Content :\n",
    "### Step 1: Import Libraries and Data\n",
    "### Step 2: Adress any PII data\n",
    "### Step 3: Comparing customer behavior in different geographic areas\n",
    "#### 3.1: Regional segmentation of the data\n",
    "#### 3.2: Comparing spending habits in different region\n",
    "### Step 4: Exclusion flag to exclude low-activity customers\n",
    "### Step 5&6: Create profiling variables and appropriate visualization to show the distribution of profiles\n",
    "#### 1. Income Profile\n",
    "#### 2. Age Profile\n",
    "##### 2.1. Comapring Loyalty in differents age groups\n",
    "##### 2.2. Comapring Spending in differents age groups\n",
    "##### 2.3. Comapring order-frequency in differents age groups\n",
    "#### 3. Number of dependents Profile\n",
    "<span style=\"color: red;\"> The continuation of this exercise can be found in (4.10 IC Task_part 2) to reduce memory problems.\n",
    "\n",
    "\n"
   ]
  },
  {
   "cell_type": "markdown",
   "id": "f8622c37-8400-46e1-a4e1-c8def47d3058",
   "metadata": {},
   "source": [
    "## Step 1: Import Libraries and Data"
   ]
  },
  {
   "cell_type": "code",
   "execution_count": 1,
   "id": "945f2d30-15dd-4f3a-aa48-a8903e33147e",
   "metadata": {},
   "outputs": [],
   "source": [
    "#Importing libraries\n",
    "import pandas as pd\n",
    "import numpy as np\n",
    "import os\n",
    "import matplotlib.pyplot as plt\n",
    "import seaborn as sns\n",
    "import scipy"
   ]
  },
  {
   "cell_type": "code",
   "execution_count": 2,
   "id": "fd4f6c77-1fa1-4bb1-bcf2-aaeda9dee281",
   "metadata": {},
   "outputs": [],
   "source": [
    "# assign path\n",
    "path = r'C:\\Users\\Bilel\\Desktop\\data_analyst_Carrer Foundry\\Data Immersion\\07-12-24 Instacart Basket Analysis'"
   ]
  },
  {
   "cell_type": "code",
   "execution_count": 3,
   "id": "e7c66d82-28be-426d-b0d9-264b94405651",
   "metadata": {},
   "outputs": [],
   "source": [
    "# Import latest dataframe\n",
    "df_IC = pd.read_pickle(os.path.join(path,'02 Data','Prepared Data','orders_products_customers_merged.pkl'))"
   ]
  },
  {
   "cell_type": "markdown",
   "id": "160d8bd6-4559-4f1d-9d7a-772d8fc98acf",
   "metadata": {},
   "source": [
    "## Step 2: Adress any PII data"
   ]
  },
  {
   "cell_type": "code",
   "execution_count": 4,
   "id": "efd0d9f6-21ae-4552-8b85-a5d847622895",
   "metadata": {},
   "outputs": [],
   "source": [
    "# Display all columns od dataframe\n",
    "pd.set_option('display.max_columns', None)"
   ]
  },
  {
   "cell_type": "code",
   "execution_count": 5,
   "id": "97043411-e2f4-4755-af72-c4ad2450316b",
   "metadata": {},
   "outputs": [
    {
     "data": {
      "text/html": [
       "<div>\n",
       "<style scoped>\n",
       "    .dataframe tbody tr th:only-of-type {\n",
       "        vertical-align: middle;\n",
       "    }\n",
       "\n",
       "    .dataframe tbody tr th {\n",
       "        vertical-align: top;\n",
       "    }\n",
       "\n",
       "    .dataframe thead th {\n",
       "        text-align: right;\n",
       "    }\n",
       "</style>\n",
       "<table border=\"1\" class=\"dataframe\">\n",
       "  <thead>\n",
       "    <tr style=\"text-align: right;\">\n",
       "      <th></th>\n",
       "      <th>order_id</th>\n",
       "      <th>user_id</th>\n",
       "      <th>order_number</th>\n",
       "      <th>orders_day_of_week</th>\n",
       "      <th>order_hour_of_day</th>\n",
       "      <th>days_since_prior_order</th>\n",
       "      <th>new_customer</th>\n",
       "      <th>product_id</th>\n",
       "      <th>add_to_cart_order</th>\n",
       "      <th>reordered</th>\n",
       "      <th>product_name</th>\n",
       "      <th>aisle_id</th>\n",
       "      <th>department_id</th>\n",
       "      <th>prices</th>\n",
       "      <th>price_range_loc</th>\n",
       "      <th>busiest_day</th>\n",
       "      <th>Busiest_days</th>\n",
       "      <th>busiest_period_of_day</th>\n",
       "      <th>max_order</th>\n",
       "      <th>loyalty_flag</th>\n",
       "      <th>avg_prods_price</th>\n",
       "      <th>spending_flag</th>\n",
       "      <th>customer_frequency</th>\n",
       "      <th>order_frequency_flag</th>\n",
       "      <th>first_name</th>\n",
       "      <th>last_name</th>\n",
       "      <th>gender</th>\n",
       "      <th>state</th>\n",
       "      <th>age</th>\n",
       "      <th>date_joined</th>\n",
       "      <th>number_of_dependants</th>\n",
       "      <th>family_status</th>\n",
       "      <th>income</th>\n",
       "    </tr>\n",
       "  </thead>\n",
       "  <tbody>\n",
       "    <tr>\n",
       "      <th>0</th>\n",
       "      <td>2539329</td>\n",
       "      <td>1</td>\n",
       "      <td>1</td>\n",
       "      <td>2</td>\n",
       "      <td>8</td>\n",
       "      <td>NaN</td>\n",
       "      <td>True</td>\n",
       "      <td>196</td>\n",
       "      <td>1</td>\n",
       "      <td>0</td>\n",
       "      <td>Soda</td>\n",
       "      <td>77</td>\n",
       "      <td>7</td>\n",
       "      <td>9.0</td>\n",
       "      <td>Mid-range product</td>\n",
       "      <td>Regularly busy</td>\n",
       "      <td>Regular day</td>\n",
       "      <td>Average orders</td>\n",
       "      <td>10</td>\n",
       "      <td>New customer</td>\n",
       "      <td>6.367797</td>\n",
       "      <td>Low spender</td>\n",
       "      <td>20.5</td>\n",
       "      <td>Non_frequent customer</td>\n",
       "      <td>Linda</td>\n",
       "      <td>Nguyen</td>\n",
       "      <td>Female</td>\n",
       "      <td>Alabama</td>\n",
       "      <td>31</td>\n",
       "      <td>2/17/2019</td>\n",
       "      <td>3</td>\n",
       "      <td>married</td>\n",
       "      <td>40423</td>\n",
       "    </tr>\n",
       "    <tr>\n",
       "      <th>1</th>\n",
       "      <td>2539329</td>\n",
       "      <td>1</td>\n",
       "      <td>1</td>\n",
       "      <td>2</td>\n",
       "      <td>8</td>\n",
       "      <td>NaN</td>\n",
       "      <td>True</td>\n",
       "      <td>14084</td>\n",
       "      <td>2</td>\n",
       "      <td>0</td>\n",
       "      <td>Organic Unsweetened Vanilla Almond Milk</td>\n",
       "      <td>91</td>\n",
       "      <td>16</td>\n",
       "      <td>12.5</td>\n",
       "      <td>Mid-range product</td>\n",
       "      <td>Regularly busy</td>\n",
       "      <td>Regular day</td>\n",
       "      <td>Average orders</td>\n",
       "      <td>10</td>\n",
       "      <td>New customer</td>\n",
       "      <td>6.367797</td>\n",
       "      <td>Low spender</td>\n",
       "      <td>20.5</td>\n",
       "      <td>Non_frequent customer</td>\n",
       "      <td>Linda</td>\n",
       "      <td>Nguyen</td>\n",
       "      <td>Female</td>\n",
       "      <td>Alabama</td>\n",
       "      <td>31</td>\n",
       "      <td>2/17/2019</td>\n",
       "      <td>3</td>\n",
       "      <td>married</td>\n",
       "      <td>40423</td>\n",
       "    </tr>\n",
       "    <tr>\n",
       "      <th>2</th>\n",
       "      <td>2539329</td>\n",
       "      <td>1</td>\n",
       "      <td>1</td>\n",
       "      <td>2</td>\n",
       "      <td>8</td>\n",
       "      <td>NaN</td>\n",
       "      <td>True</td>\n",
       "      <td>12427</td>\n",
       "      <td>3</td>\n",
       "      <td>0</td>\n",
       "      <td>Original Beef Jerky</td>\n",
       "      <td>23</td>\n",
       "      <td>19</td>\n",
       "      <td>4.4</td>\n",
       "      <td>Low-range product</td>\n",
       "      <td>Regularly busy</td>\n",
       "      <td>Regular day</td>\n",
       "      <td>Average orders</td>\n",
       "      <td>10</td>\n",
       "      <td>New customer</td>\n",
       "      <td>6.367797</td>\n",
       "      <td>Low spender</td>\n",
       "      <td>20.5</td>\n",
       "      <td>Non_frequent customer</td>\n",
       "      <td>Linda</td>\n",
       "      <td>Nguyen</td>\n",
       "      <td>Female</td>\n",
       "      <td>Alabama</td>\n",
       "      <td>31</td>\n",
       "      <td>2/17/2019</td>\n",
       "      <td>3</td>\n",
       "      <td>married</td>\n",
       "      <td>40423</td>\n",
       "    </tr>\n",
       "    <tr>\n",
       "      <th>3</th>\n",
       "      <td>2539329</td>\n",
       "      <td>1</td>\n",
       "      <td>1</td>\n",
       "      <td>2</td>\n",
       "      <td>8</td>\n",
       "      <td>NaN</td>\n",
       "      <td>True</td>\n",
       "      <td>26088</td>\n",
       "      <td>4</td>\n",
       "      <td>0</td>\n",
       "      <td>Aged White Cheddar Popcorn</td>\n",
       "      <td>23</td>\n",
       "      <td>19</td>\n",
       "      <td>4.7</td>\n",
       "      <td>Low-range product</td>\n",
       "      <td>Regularly busy</td>\n",
       "      <td>Regular day</td>\n",
       "      <td>Average orders</td>\n",
       "      <td>10</td>\n",
       "      <td>New customer</td>\n",
       "      <td>6.367797</td>\n",
       "      <td>Low spender</td>\n",
       "      <td>20.5</td>\n",
       "      <td>Non_frequent customer</td>\n",
       "      <td>Linda</td>\n",
       "      <td>Nguyen</td>\n",
       "      <td>Female</td>\n",
       "      <td>Alabama</td>\n",
       "      <td>31</td>\n",
       "      <td>2/17/2019</td>\n",
       "      <td>3</td>\n",
       "      <td>married</td>\n",
       "      <td>40423</td>\n",
       "    </tr>\n",
       "    <tr>\n",
       "      <th>4</th>\n",
       "      <td>2539329</td>\n",
       "      <td>1</td>\n",
       "      <td>1</td>\n",
       "      <td>2</td>\n",
       "      <td>8</td>\n",
       "      <td>NaN</td>\n",
       "      <td>True</td>\n",
       "      <td>26405</td>\n",
       "      <td>5</td>\n",
       "      <td>0</td>\n",
       "      <td>XL Pick-A-Size Paper Towel Rolls</td>\n",
       "      <td>54</td>\n",
       "      <td>17</td>\n",
       "      <td>1.0</td>\n",
       "      <td>Low-range product</td>\n",
       "      <td>Regularly busy</td>\n",
       "      <td>Regular day</td>\n",
       "      <td>Average orders</td>\n",
       "      <td>10</td>\n",
       "      <td>New customer</td>\n",
       "      <td>6.367797</td>\n",
       "      <td>Low spender</td>\n",
       "      <td>20.5</td>\n",
       "      <td>Non_frequent customer</td>\n",
       "      <td>Linda</td>\n",
       "      <td>Nguyen</td>\n",
       "      <td>Female</td>\n",
       "      <td>Alabama</td>\n",
       "      <td>31</td>\n",
       "      <td>2/17/2019</td>\n",
       "      <td>3</td>\n",
       "      <td>married</td>\n",
       "      <td>40423</td>\n",
       "    </tr>\n",
       "  </tbody>\n",
       "</table>\n",
       "</div>"
      ],
      "text/plain": [
       "   order_id  user_id  order_number  orders_day_of_week  order_hour_of_day  \\\n",
       "0   2539329        1             1                   2                  8   \n",
       "1   2539329        1             1                   2                  8   \n",
       "2   2539329        1             1                   2                  8   \n",
       "3   2539329        1             1                   2                  8   \n",
       "4   2539329        1             1                   2                  8   \n",
       "\n",
       "   days_since_prior_order  new_customer  product_id  add_to_cart_order  \\\n",
       "0                     NaN          True         196                  1   \n",
       "1                     NaN          True       14084                  2   \n",
       "2                     NaN          True       12427                  3   \n",
       "3                     NaN          True       26088                  4   \n",
       "4                     NaN          True       26405                  5   \n",
       "\n",
       "   reordered                             product_name  aisle_id  \\\n",
       "0          0                                     Soda        77   \n",
       "1          0  Organic Unsweetened Vanilla Almond Milk        91   \n",
       "2          0                      Original Beef Jerky        23   \n",
       "3          0               Aged White Cheddar Popcorn        23   \n",
       "4          0         XL Pick-A-Size Paper Towel Rolls        54   \n",
       "\n",
       "   department_id  prices    price_range_loc     busiest_day Busiest_days  \\\n",
       "0              7     9.0  Mid-range product  Regularly busy  Regular day   \n",
       "1             16    12.5  Mid-range product  Regularly busy  Regular day   \n",
       "2             19     4.4  Low-range product  Regularly busy  Regular day   \n",
       "3             19     4.7  Low-range product  Regularly busy  Regular day   \n",
       "4             17     1.0  Low-range product  Regularly busy  Regular day   \n",
       "\n",
       "  busiest_period_of_day  max_order  loyalty_flag  avg_prods_price  \\\n",
       "0        Average orders         10  New customer         6.367797   \n",
       "1        Average orders         10  New customer         6.367797   \n",
       "2        Average orders         10  New customer         6.367797   \n",
       "3        Average orders         10  New customer         6.367797   \n",
       "4        Average orders         10  New customer         6.367797   \n",
       "\n",
       "  spending_flag  customer_frequency   order_frequency_flag first_name  \\\n",
       "0   Low spender                20.5  Non_frequent customer      Linda   \n",
       "1   Low spender                20.5  Non_frequent customer      Linda   \n",
       "2   Low spender                20.5  Non_frequent customer      Linda   \n",
       "3   Low spender                20.5  Non_frequent customer      Linda   \n",
       "4   Low spender                20.5  Non_frequent customer      Linda   \n",
       "\n",
       "  last_name  gender    state  age date_joined  number_of_dependants  \\\n",
       "0    Nguyen  Female  Alabama   31   2/17/2019                     3   \n",
       "1    Nguyen  Female  Alabama   31   2/17/2019                     3   \n",
       "2    Nguyen  Female  Alabama   31   2/17/2019                     3   \n",
       "3    Nguyen  Female  Alabama   31   2/17/2019                     3   \n",
       "4    Nguyen  Female  Alabama   31   2/17/2019                     3   \n",
       "\n",
       "  family_status  income  \n",
       "0       married   40423  \n",
       "1       married   40423  \n",
       "2       married   40423  \n",
       "3       married   40423  \n",
       "4       married   40423  "
      ]
     },
     "execution_count": 5,
     "metadata": {},
     "output_type": "execute_result"
    }
   ],
   "source": [
    "df_IC.head()"
   ]
  },
  {
   "cell_type": "code",
   "execution_count": 6,
   "id": "b1e95f6c-dc77-40c5-939f-ff38bc134cf3",
   "metadata": {},
   "outputs": [
    {
     "data": {
      "text/plain": [
       "(32404859, 33)"
      ]
     },
     "execution_count": 6,
     "metadata": {},
     "output_type": "execute_result"
    }
   ],
   "source": [
    "df_IC.shape"
   ]
  },
  {
   "cell_type": "markdown",
   "id": "d675d174-be5a-4a96-b172-319e09ba5c0d",
   "metadata": {},
   "source": [
    "The combination of column like first_name, last_name, age, gender,state,number_of_dependents, family_status, income could lead to identification of a single person using external data sources. So,this issue can be addressed by dropping first_name, last_name columns."
   ]
  },
  {
   "cell_type": "code",
   "execution_count": 7,
   "id": "937220bb-f37a-4ca5-a3a3-c365056676f3",
   "metadata": {},
   "outputs": [],
   "source": [
    "# Dropping first_name and last_name columns \n",
    "df_IC= df_IC.drop(columns = ['first_name','last_name'])"
   ]
  },
  {
   "cell_type": "code",
   "execution_count": 8,
   "id": "8b017a7b-0026-4960-aa6a-2a44607103c3",
   "metadata": {},
   "outputs": [
    {
     "data": {
      "text/plain": [
       "(32404859, 31)"
      ]
     },
     "execution_count": 8,
     "metadata": {},
     "output_type": "execute_result"
    }
   ],
   "source": [
    "df_IC.shape"
   ]
  },
  {
   "cell_type": "markdown",
   "id": "bf45c88c-42f8-4b57-831b-68fa64c77e67",
   "metadata": {},
   "source": [
    "## Step 3: Comparing customer behavior in different geographic areas"
   ]
  },
  {
   "cell_type": "markdown",
   "id": "0296911f-c933-4515-838f-75d6d955e5e4",
   "metadata": {},
   "source": [
    "### 3.1: Regional segmentation of the data"
   ]
  },
  {
   "cell_type": "code",
   "execution_count": 9,
   "id": "5e1e8a0b-dd67-4144-b8b3-43ceb4a2cb3c",
   "metadata": {},
   "outputs": [],
   "source": [
    "# Set up region column\n",
    "result = []\n",
    "for value in df_IC['state']:\n",
    "    if value in ('Maine'\t'New Hampshire'\t'Vermont'\t'Massachusetts'\t'Rhode Island'\t'Connecticut'\t'New York'\t'Pennsylvania'\t'New Jersey'\n",
    ") :\n",
    "        result.append('Northeast')\n",
    "    elif value in ('Wisconsin'\t'Michigan'\t'Illinois'\t'Indiana'\t'Ohio'\t'North Dakota'\t'South Dakota'\t'Nebraska'\t'Kansas'\t'Minnesota'\t'Iowa'\t'Missouri'\n",
    ") :\n",
    "        result.append('Midwest')\n",
    "    elif value in ('Delaware'\t'Maryland'\t'District of Columbia'\t'Virginia'\t'West Virginia'\t'North Carolina'\t'South Carolina'\t'Georgia'\t'Florida'\t'Kentucky'\t'Tennessee'\t'Mississippi'\t'Alabama'\t'Oklahoma'\t'Texas'\t'Arkansas'\t'Louisiana'\n",
    ") :\n",
    "        result.append('South')\n",
    "    elif value in ('Idaho'\t'Montana'\t'Wyoming'\t'Nevada'\t'Utah'\t'Colorado'\t'Arizona'\t'New Mexico'\t'Alaska'\t'Washington'\t'Oregon'\t'California'\t'Hawaii'\n",
    ") :\n",
    "        result.append('West')\n",
    "    else :\n",
    "        result.append('Not a region')"
   ]
  },
  {
   "cell_type": "code",
   "execution_count": 10,
   "id": "de810269-d8d0-4738-8d7b-b9c7bf3d64ea",
   "metadata": {},
   "outputs": [],
   "source": [
    "# Assigning the values in result[] to new column Region\n",
    "df_IC['region']=result"
   ]
  },
  {
   "cell_type": "code",
   "execution_count": 11,
   "id": "004b14c9-0efe-431f-ab58-b252d8299e33",
   "metadata": {},
   "outputs": [
    {
     "data": {
      "text/plain": [
       "region\n",
       "South        10791885\n",
       "West          8292913\n",
       "Midwest       7597325\n",
       "Northeast     5722736\n",
       "Name: count, dtype: int64"
      ]
     },
     "execution_count": 11,
     "metadata": {},
     "output_type": "execute_result"
    }
   ],
   "source": [
    "#Examining Value Counts on 'region'\n",
    "df_IC['region'].value_counts(dropna = False)"
   ]
  },
  {
   "cell_type": "code",
   "execution_count": 12,
   "id": "ebeaaf42-9412-4400-b324-8182c0c4f33b",
   "metadata": {},
   "outputs": [
    {
     "data": {
      "text/plain": [
       "region\n",
       "Midwest      48519\n",
       "Northeast    36388\n",
       "South        68737\n",
       "West         52565\n",
       "Name: user_id, dtype: int64"
      ]
     },
     "execution_count": 12,
     "metadata": {},
     "output_type": "execute_result"
    }
   ],
   "source": [
    "#Examining Value Counts on 'region' for each user\n",
    "df_IC.groupby(['region']).user_id.nunique()"
   ]
  },
  {
   "cell_type": "markdown",
   "id": "a88b1363-9975-4918-8144-1a2cb69b3849",
   "metadata": {},
   "source": [
    "### 3.2: Comparing spending habits in different regions"
   ]
  },
  {
   "cell_type": "code",
   "execution_count": 13,
   "id": "f075506c-62aa-4b02-9efe-04b16e90de2f",
   "metadata": {},
   "outputs": [],
   "source": [
    "crosstab = pd.crosstab (df_IC['region'], df_IC['spending_flag'],dropna = False)"
   ]
  },
  {
   "cell_type": "code",
   "execution_count": 14,
   "id": "a35de9b1-f5eb-4a64-ac57-2e917ec0f33c",
   "metadata": {},
   "outputs": [],
   "source": [
    "crosstab.to_clipboard()"
   ]
  },
  {
   "cell_type": "code",
   "execution_count": 15,
   "id": "5444f72a-7640-4037-91c5-beb951d217ab",
   "metadata": {},
   "outputs": [
    {
     "data": {
      "image/png": "[encoded data removed]",
      "text/plain": [
       "<Figure size 640x480 with 1 Axes>"
      ]
     },
     "metadata": {},
     "output_type": "display_data"
    }
   ],
   "source": [
    "# Bar graph for spending habits by region\n",
    "bar_reg_spend =  crosstab.plot.bar()"
   ]
  },
  {
   "cell_type": "markdown",
   "id": "9d7580bd-ce93-4b6b-8ca9-da0e72d67e2d",
   "metadata": {},
   "source": [
    "The graph shows that \"Low spenders\" dominate in all regions (Midwest, Northeast, South, West), with the South leading. \"High spenders\" are very few in all regions.\n",
    "Recommendations: Adapt marketing strategies to target \"Low spenders\" with promotions, and analyze the needs of \"High spenders\" for premium offers. Consider diversified regional campaigns and loyalty programs to convert \"Low spenders\" into \"High spenders\"."
   ]
  },
  {
   "cell_type": "code",
   "execution_count": 16,
   "id": "4819a87f-a754-4181-a867-f5cb7c9e5bde",
   "metadata": {},
   "outputs": [],
   "source": [
    "# Export bar graph\n",
    "bar_reg_spend.figure.savefig(os.path.join(path,'04 Analysis','Visualizations','Task_4.10','bar_reg_spend.png'))"
   ]
  },
  {
   "cell_type": "markdown",
   "id": "1ac50878-3ff1-42d3-a05b-81f4d0fc5e5e",
   "metadata": {},
   "source": [
    "## Step 4: Exclusion flag to exclude low-activity customers"
   ]
  },
  {
   "cell_type": "code",
   "execution_count": 17,
   "id": "0f3071d4-89db-4aa4-ad78-ddf4c0cb32f6",
   "metadata": {},
   "outputs": [],
   "source": [
    "# Create a flag for customers with less than 5 orders\n",
    "df_IC.loc[df_IC['max_order'] < 5, 'activity_flag'] = 'low-activity customer'\n",
    "df_IC.loc[df_IC['max_order'] >= 5,'activity_flag'] = 'high-activity customer'"
   ]
  },
  {
   "cell_type": "code",
   "execution_count": 18,
   "id": "23ef34bb-a6fe-418e-ae2a-6fbfb31a8cc1",
   "metadata": {},
   "outputs": [
    {
     "data": {
      "text/plain": [
       "activity_flag\n",
       "high-activity customer    30964564\n",
       "low-activity customer      1440295\n",
       "Name: count, dtype: int64"
      ]
     },
     "execution_count": 18,
     "metadata": {},
     "output_type": "execute_result"
    }
   ],
   "source": [
    "#Examining Value Counts on 'activity_flag' \n",
    "df_IC['activity_flag'].value_counts(dropna = False)"
   ]
  },
  {
   "cell_type": "code",
   "execution_count": 19,
   "id": "127aa515-f029-4472-b69a-5749eed4e764",
   "metadata": {},
   "outputs": [
    {
     "data": {
      "text/plain": [
       "activity_flag\n",
       "high-activity customer    162631\n",
       "low-activity customer      43578\n",
       "Name: user_id, dtype: int64"
      ]
     },
     "execution_count": 19,
     "metadata": {},
     "output_type": "execute_result"
    }
   ],
   "source": [
    "#Examining Value Counts on 'activity_flag' for each user\n",
    "df_IC.groupby(['activity_flag']).user_id.nunique()\n"
   ]
  },
  {
   "cell_type": "code",
   "execution_count": 20,
   "id": "8e73da68-6a2a-4870-a1c7-77532dc9e36d",
   "metadata": {},
   "outputs": [],
   "source": [
    "# Exculde low_activity customers from the dataframe\n",
    "df_IC_New= df_IC[df_IC['activity_flag'] != 'low-activity customer']"
   ]
  },
  {
   "cell_type": "code",
   "execution_count": 21,
   "id": "59f0755f-e76a-4cde-a098-f325f6220148",
   "metadata": {},
   "outputs": [
    {
     "data": {
      "text/plain": [
       "activity_flag\n",
       "high-activity customer    162631\n",
       "Name: user_id, dtype: int64"
      ]
     },
     "execution_count": 21,
     "metadata": {},
     "output_type": "execute_result"
    }
   ],
   "source": [
    "df_IC_New.groupby(['activity_flag']).user_id.nunique()"
   ]
  },
  {
   "cell_type": "code",
   "execution_count": 22,
   "id": "fd7ab458-52ba-4110-938a-47d8a5afa66f",
   "metadata": {},
   "outputs": [
    {
     "data": {
      "text/plain": [
       "(30964564, 33)"
      ]
     },
     "execution_count": 22,
     "metadata": {},
     "output_type": "execute_result"
    }
   ],
   "source": [
    "df_IC_New.shape"
   ]
  },
  {
   "cell_type": "code",
   "execution_count": 23,
   "id": "0a824890-1d4e-40b1-b272-e9da3348a120",
   "metadata": {},
   "outputs": [],
   "source": [
    "# drop \"activity_flag\" column from the new dataframe\n",
    "df_IC_New= df_IC_New.drop(columns='activity_flag')"
   ]
  },
  {
   "cell_type": "code",
   "execution_count": 24,
   "id": "2ac404b5-ae46-498d-afe7-20cb4e4c185e",
   "metadata": {},
   "outputs": [],
   "source": [
    "# Export the new dataframe\n",
    "df_IC_New.to_pickle(os.path.join(path, '02 Data','Prepared Data', 'orders_products_high-activity customer_merged.pkl'))"
   ]
  },
  {
   "cell_type": "markdown",
   "id": "2bfa15cd-ed22-4958-a7cd-baea3719cafe",
   "metadata": {},
   "source": [
    "## Step 5&6: Create profiling variables and appropriate visualization to show the distribution of profiles"
   ]
  },
  {
   "cell_type": "markdown",
   "id": "8f27fa0d-6152-4380-ab87-3f897fd48212",
   "metadata": {},
   "source": [
    "### 1. Income Profile"
   ]
  },
  {
   "cell_type": "code",
   "execution_count": 25,
   "id": "65ac222f-46a1-464c-8bff-abda2fc822e8",
   "metadata": {},
   "outputs": [],
   "source": [
    "# Create an income group variable\n",
    "df_IC_New.loc[df_IC_New['income'] <= 40000, 'income_group'] = 'low-income'\n",
    "df_IC_New.loc[(df_IC_New['income'] > 40000) & (df_IC_New['income'] <= 120000), 'income_group'] = 'middle-income'\n",
    "df_IC_New.loc[df_IC_New['income'] > 120000, 'income_group'] = 'high-income'"
   ]
  },
  {
   "cell_type": "code",
   "execution_count": 26,
   "id": "2977c663-efc6-4e6f-8463-3a8c78fd15a1",
   "metadata": {},
   "outputs": [
    {
     "data": {
      "text/plain": [
       "income_group\n",
       "middle-income    20173026\n",
       "high-income       9179513\n",
       "low-income        1612025\n",
       "Name: count, dtype: int64"
      ]
     },
     "execution_count": 26,
     "metadata": {},
     "output_type": "execute_result"
    }
   ],
   "source": [
    "# Check the counts of income groups\n",
    "df_IC_New['income_group'].value_counts(dropna = False)"
   ]
  },
  {
   "cell_type": "code",
   "execution_count": 27,
   "id": "b9939104-21fb-47b1-9286-c5b5fb82c553",
   "metadata": {},
   "outputs": [
    {
     "data": {
      "image/png": "[encoded data removed]",
      "text/plain": [
       "<Figure size 640x480 with 1 Axes>"
      ]
     },
     "metadata": {},
     "output_type": "display_data"
    }
   ],
   "source": [
    "# Income Profile Visualization Horizontal Bar Chart\n",
    "bar_income_group = df_IC_New['income_group'].value_counts().plot.bar()"
   ]
  },
  {
   "cell_type": "code",
   "execution_count": 28,
   "id": "fdab99c4-6204-40bd-bace-f0546e7b7087",
   "metadata": {},
   "outputs": [],
   "source": [
    "# Export income_group Bar Chart\n",
    "bar_income_group.figure.savefig(os.path.join(path,'04 Analysis','Visualizations','Task_4.10', 'bar_income_group.png'))"
   ]
  },
  {
   "cell_type": "code",
   "execution_count": 29,
   "id": "5711c544-6912-4520-8f08-377357cf8bf3",
   "metadata": {},
   "outputs": [
    {
     "data": {
      "image/png": "[encoded data removed]",
      "text/plain": [
       "<Figure size 640x480 with 1 Axes>"
      ]
     },
     "metadata": {},
     "output_type": "display_data"
    }
   ],
   "source": [
    "# Income Profile Visualization Pie Chart\n",
    "income_group_counts = df_IC_New['income_group'].value_counts()\n",
    "income_group_pie_chart=income_group_counts.plot.pie(autopct='%1.1f%%',wedgeprops={'edgecolor':'black'})\n",
    "plt.title('Income Groups ')\n",
    "plt.ylabel('')\n",
    "plt.tight_layout()\n",
    "plt.show()"
   ]
  },
  {
   "cell_type": "code",
   "execution_count": 30,
   "id": "fa6839ea-4053-4a86-9c2c-620598fd2534",
   "metadata": {},
   "outputs": [],
   "source": [
    "# Export income_group pie Chart\n",
    "income_group_pie_chart.figure.savefig(os.path.join(path,'04 Analysis','Visualizations','Task_4.10', 'pie_chart_income_group.png'))"
   ]
  },
  {
   "cell_type": "markdown",
   "id": "d0698fdb-21d1-4d5d-80f3-3531a810a289",
   "metadata": {},
   "source": [
    "### 2. Age Profile"
   ]
  },
  {
   "cell_type": "code",
   "execution_count": 31,
   "id": "45a4bea7-013a-4993-bc6a-cc7698a1687a",
   "metadata": {},
   "outputs": [],
   "source": [
    "# Create an age group variable\n",
    "df_IC_New.loc[df_IC_New['age'] <= 25, 'age_group'] = 'young adult'\n",
    "df_IC_New.loc[(df_IC_New['age'] > 25) & (df_IC_New['age'] <= 44), 'age_group'] = 'adult'\n",
    "df_IC_New.loc[(df_IC_New['age'] > 44) & (df_IC_New['age'] <= 64), 'age_group'] = 'middle-aged'\n",
    "df_IC_New.loc[df_IC_New['age'] > 64, 'age_group'] = 'senior'"
   ]
  },
  {
   "cell_type": "code",
   "execution_count": 32,
   "id": "efad9356-63e2-45aa-ab28-e7114ef01338",
   "metadata": {},
   "outputs": [
    {
     "data": {
      "text/plain": [
       "age_group\n",
       "middle-aged    9690051\n",
       "adult          9214451\n",
       "senior         8195544\n",
       "young adult    3864518\n",
       "Name: count, dtype: int64"
      ]
     },
     "execution_count": 32,
     "metadata": {},
     "output_type": "execute_result"
    }
   ],
   "source": [
    "# Check value counts for each age group\n",
    "age_group_counts = df_IC_New['age_group'].value_counts(dropna = False)\n",
    "age_group_counts"
   ]
  },
  {
   "cell_type": "code",
   "execution_count": 33,
   "id": "2a0d30a8-bbde-490f-9d3e-f7e5f48571f9",
   "metadata": {},
   "outputs": [
    {
     "data": {
      "image/png": "[encoded data removed]",
      "text/plain": [
       "<Figure size 640x480 with 1 Axes>"
      ]
     },
     "metadata": {},
     "output_type": "display_data"
    }
   ],
   "source": [
    "# Age Profile Visualization Pie Chart\n",
    "age_group_pie_chart=age_group_counts.plot.pie(autopct='%1.1f%%', labels= ['middle-aged: 45-64 years', 'adult: 26-44 years', 'senior: 65+ years', 'young adult: up to 25 years'],wedgeprops={'edgecolor':'black'})\n",
    "plt.title('Age Groups ')\n",
    "plt.ylabel('')\n",
    "plt.tight_layout()\n",
    "plt.show()\n"
   ]
  },
  {
   "cell_type": "code",
   "execution_count": 34,
   "id": "5df43978-f18c-432e-870b-e69c7fbc33b6",
   "metadata": {},
   "outputs": [],
   "source": [
    "# Export age_groups pie Chart\n",
    "age_group_pie_chart.figure.savefig(os.path.join(path,'04 Analysis','Visualizations','Task_4.10', 'pie_chart_age_group.png'))"
   ]
  },
  {
   "cell_type": "markdown",
   "id": "361ccea0-70a4-472b-9ea1-087ea7e57d76",
   "metadata": {},
   "source": [
    "#### 2.1. Comapring Loyalty in differents age groups"
   ]
  },
  {
   "cell_type": "code",
   "execution_count": 35,
   "id": "ccd84afe-b2ac-4fb7-83bb-90da78d668ba",
   "metadata": {},
   "outputs": [
    {
     "data": {
      "text/html": [
       "<div>\n",
       "<style scoped>\n",
       "    .dataframe tbody tr th:only-of-type {\n",
       "        vertical-align: middle;\n",
       "    }\n",
       "\n",
       "    .dataframe tbody tr th {\n",
       "        vertical-align: top;\n",
       "    }\n",
       "\n",
       "    .dataframe thead th {\n",
       "        text-align: right;\n",
       "    }\n",
       "</style>\n",
       "<table border=\"1\" class=\"dataframe\">\n",
       "  <thead>\n",
       "    <tr style=\"text-align: right;\">\n",
       "      <th>age_group</th>\n",
       "      <th>adult</th>\n",
       "      <th>middle-aged</th>\n",
       "      <th>senior</th>\n",
       "      <th>young adult</th>\n",
       "    </tr>\n",
       "    <tr>\n",
       "      <th>loyalty_flag</th>\n",
       "      <th></th>\n",
       "      <th></th>\n",
       "      <th></th>\n",
       "      <th></th>\n",
       "    </tr>\n",
       "  </thead>\n",
       "  <tbody>\n",
       "    <tr>\n",
       "      <th>Loyal customer</th>\n",
       "      <td>3048175</td>\n",
       "      <td>3231509</td>\n",
       "      <td>2723958</td>\n",
       "      <td>1280451</td>\n",
       "    </tr>\n",
       "    <tr>\n",
       "      <th>New customer</th>\n",
       "      <td>1420508</td>\n",
       "      <td>1506670</td>\n",
       "      <td>1276659</td>\n",
       "      <td>599858</td>\n",
       "    </tr>\n",
       "    <tr>\n",
       "      <th>Regular customer</th>\n",
       "      <td>4745768</td>\n",
       "      <td>4951872</td>\n",
       "      <td>4194927</td>\n",
       "      <td>1984209</td>\n",
       "    </tr>\n",
       "  </tbody>\n",
       "</table>\n",
       "</div>"
      ],
      "text/plain": [
       "age_group           adult  middle-aged   senior  young adult\n",
       "loyalty_flag                                                \n",
       "Loyal customer    3048175      3231509  2723958      1280451\n",
       "New customer      1420508      1506670  1276659       599858\n",
       "Regular customer  4745768      4951872  4194927      1984209"
      ]
     },
     "execution_count": 35,
     "metadata": {},
     "output_type": "execute_result"
    }
   ],
   "source": [
    "# Crosstab loyalty vs Age groups\n",
    "cross_loyalty_age= pd.crosstab(df_IC_New ['loyalty_flag'], df_IC_New ['age_group'],dropna=False)\n",
    "cross_loyalty_age"
   ]
  },
  {
   "cell_type": "code",
   "execution_count": 36,
   "id": "046109b8-2953-4d59-922b-63287fc49eb5",
   "metadata": {},
   "outputs": [
    {
     "data": {
      "text/plain": [
       "(array([0, 1, 2]),\n",
       " [Text(0, 0, 'Loyal customer'),\n",
       "  Text(1, 0, 'New customer'),\n",
       "  Text(2, 0, 'Regular customer')])"
      ]
     },
     "execution_count": 36,
     "metadata": {},
     "output_type": "execute_result"
    },
    {
     "data": {
      "image/png": "[encoded data removed]",
      "text/plain": [
       "<Figure size 640x480 with 1 Axes>"
      ]
     },
     "metadata": {},
     "output_type": "display_data"
    }
   ],
   "source": [
    "# bar chart loyalty vs age groups\n",
    "bar_loyalty_age = cross_loyalty_age.plot.bar()\n",
    "plt.title('Loyalty by Age Group')\n",
    "plt.xlabel('')\n",
    "plt.ylabel('count')\n",
    "plt.xticks(rotation=0)"
   ]
  },
  {
   "cell_type": "code",
   "execution_count": 37,
   "id": "44888654-5aa7-4e27-b02f-0be7fa411dc8",
   "metadata": {},
   "outputs": [],
   "source": [
    "# Export bar chart\n",
    "bar_loyalty_age.figure.savefig(os.path.join(path, '04 Analysis','Visualizations','Task_4.10','bar_loyalty_age_group.png'))"
   ]
  },
  {
   "cell_type": "markdown",
   "id": "8ef7718d-b63d-4afe-9dfd-9fb5a07c6d4f",
   "metadata": {},
   "source": [
    "#### 2.2. Comapring Spending in differents age groups"
   ]
  },
  {
   "cell_type": "code",
   "execution_count": 38,
   "id": "1c82b3e3-f770-4045-9376-f0bf3cb28117",
   "metadata": {},
   "outputs": [
    {
     "data": {
      "text/html": [
       "<div>\n",
       "<style scoped>\n",
       "    .dataframe tbody tr th:only-of-type {\n",
       "        vertical-align: middle;\n",
       "    }\n",
       "\n",
       "    .dataframe tbody tr th {\n",
       "        vertical-align: top;\n",
       "    }\n",
       "\n",
       "    .dataframe thead th {\n",
       "        text-align: right;\n",
       "    }\n",
       "</style>\n",
       "<table border=\"1\" class=\"dataframe\">\n",
       "  <thead>\n",
       "    <tr style=\"text-align: right;\">\n",
       "      <th>age_group</th>\n",
       "      <th>adult</th>\n",
       "      <th>middle-aged</th>\n",
       "      <th>senior</th>\n",
       "      <th>young adult</th>\n",
       "    </tr>\n",
       "    <tr>\n",
       "      <th>spending_flag</th>\n",
       "      <th></th>\n",
       "      <th></th>\n",
       "      <th></th>\n",
       "      <th></th>\n",
       "    </tr>\n",
       "  </thead>\n",
       "  <tbody>\n",
       "    <tr>\n",
       "      <th>High spender</th>\n",
       "      <td>174740</td>\n",
       "      <td>197797</td>\n",
       "      <td>156886</td>\n",
       "      <td>74002</td>\n",
       "    </tr>\n",
       "    <tr>\n",
       "      <th>Low spender</th>\n",
       "      <td>9039711</td>\n",
       "      <td>9492254</td>\n",
       "      <td>8038658</td>\n",
       "      <td>3790516</td>\n",
       "    </tr>\n",
       "  </tbody>\n",
       "</table>\n",
       "</div>"
      ],
      "text/plain": [
       "age_group        adult  middle-aged   senior  young adult\n",
       "spending_flag                                            \n",
       "High spender    174740       197797   156886        74002\n",
       "Low spender    9039711      9492254  8038658      3790516"
      ]
     },
     "execution_count": 38,
     "metadata": {},
     "output_type": "execute_result"
    }
   ],
   "source": [
    "# Crosstab spending vs age groups\n",
    "cross_spending_age = pd.crosstab(df_IC_New['spending_flag'], df_IC_New['age_group'], dropna = False)\n",
    "cross_spending_age"
   ]
  },
  {
   "cell_type": "code",
   "execution_count": 39,
   "id": "4f54b963-93a9-41f0-a22d-5dfb7fb4fdfc",
   "metadata": {},
   "outputs": [
    {
     "data": {
      "text/plain": [
       "(array([0, 1]), [Text(0, 0, 'High spender'), Text(1, 0, 'Low spender')])"
      ]
     },
     "execution_count": 39,
     "metadata": {},
     "output_type": "execute_result"
    },
    {
     "data": {
      "image/png": "[encoded data removed]",
      "text/plain": [
       "<Figure size 640x480 with 1 Axes>"
      ]
     },
     "metadata": {},
     "output_type": "display_data"
    }
   ],
   "source": [
    "# bar chart Spending vs age groups\n",
    "bar_spending_age = cross_spending_age.plot.bar()\n",
    "plt.title('Spending by Age Group')\n",
    "plt.xlabel('')\n",
    "plt.ylabel('count')\n",
    "plt.xticks(rotation=0)"
   ]
  },
  {
   "cell_type": "code",
   "execution_count": 40,
   "id": "9ca5bfc6-4a97-4959-9314-4aec64b7115e",
   "metadata": {},
   "outputs": [],
   "source": [
    "# Export bar chart\n",
    "bar_spending_age.figure.savefig(os.path.join(path, '04 Analysis','Visualizations','Task_4.10','bar_spending_age_group.png'))"
   ]
  },
  {
   "cell_type": "markdown",
   "id": "e84c8e5b-49d2-4abb-9cb5-d007b2e5071a",
   "metadata": {},
   "source": [
    "#### 2.3. Comapring order-frequency in differents age groups"
   ]
  },
  {
   "cell_type": "code",
   "execution_count": 41,
   "id": "b91b5878-157b-44a8-a730-905aa289a54a",
   "metadata": {},
   "outputs": [
    {
     "data": {
      "text/html": [
       "<div>\n",
       "<style scoped>\n",
       "    .dataframe tbody tr th:only-of-type {\n",
       "        vertical-align: middle;\n",
       "    }\n",
       "\n",
       "    .dataframe tbody tr th {\n",
       "        vertical-align: top;\n",
       "    }\n",
       "\n",
       "    .dataframe thead th {\n",
       "        text-align: right;\n",
       "    }\n",
       "</style>\n",
       "<table border=\"1\" class=\"dataframe\">\n",
       "  <thead>\n",
       "    <tr style=\"text-align: right;\">\n",
       "      <th>age_group</th>\n",
       "      <th>adult</th>\n",
       "      <th>middle-aged</th>\n",
       "      <th>senior</th>\n",
       "      <th>young adult</th>\n",
       "    </tr>\n",
       "    <tr>\n",
       "      <th>order_frequency_flag</th>\n",
       "      <th></th>\n",
       "      <th></th>\n",
       "      <th></th>\n",
       "      <th></th>\n",
       "    </tr>\n",
       "  </thead>\n",
       "  <tbody>\n",
       "    <tr>\n",
       "      <th>Frequent Customer</th>\n",
       "      <td>6309385</td>\n",
       "      <td>6610186</td>\n",
       "      <td>5630976</td>\n",
       "      <td>2653929</td>\n",
       "    </tr>\n",
       "    <tr>\n",
       "      <th>Non_frequent customer</th>\n",
       "      <td>848176</td>\n",
       "      <td>928228</td>\n",
       "      <td>760132</td>\n",
       "      <td>358439</td>\n",
       "    </tr>\n",
       "    <tr>\n",
       "      <th>Regular customer</th>\n",
       "      <td>2056890</td>\n",
       "      <td>2151637</td>\n",
       "      <td>1804436</td>\n",
       "      <td>852150</td>\n",
       "    </tr>\n",
       "  </tbody>\n",
       "</table>\n",
       "</div>"
      ],
      "text/plain": [
       "age_group                adult  middle-aged   senior  young adult\n",
       "order_frequency_flag                                             \n",
       "Frequent Customer      6309385      6610186  5630976      2653929\n",
       "Non_frequent customer   848176       928228   760132       358439\n",
       "Regular customer       2056890      2151637  1804436       852150"
      ]
     },
     "execution_count": 41,
     "metadata": {},
     "output_type": "execute_result"
    }
   ],
   "source": [
    "# Crosstab order_frequency vs age groups\n",
    "cross_order_age = pd.crosstab(df_IC_New['order_frequency_flag'], df_IC_New['age_group'], dropna = False)\n",
    "cross_order_age"
   ]
  },
  {
   "cell_type": "code",
   "execution_count": 42,
   "id": "fbbd595b-0ebd-42f8-8852-17e598db9df5",
   "metadata": {},
   "outputs": [
    {
     "data": {
      "text/plain": [
       "(array([0, 1, 2]),\n",
       " [Text(0, 0, 'Frequent Customer'),\n",
       "  Text(1, 0, 'Non_frequent customer'),\n",
       "  Text(2, 0, 'Regular customer')])"
      ]
     },
     "execution_count": 42,
     "metadata": {},
     "output_type": "execute_result"
    },
    {
     "data": {
      "image/png": "[encoded data removed]",
      "text/plain": [
       "<Figure size 640x480 with 1 Axes>"
      ]
     },
     "metadata": {},
     "output_type": "display_data"
    }
   ],
   "source": [
    "# bar chart order_frequency vs age groups\n",
    "bar_order_frequency_age = cross_order_age.plot.bar()\n",
    "plt.title('order_frequency by Age Group')\n",
    "plt.xlabel('')\n",
    "plt.ylabel('count')\n",
    "plt.xticks(rotation=0)"
   ]
  },
  {
   "cell_type": "code",
   "execution_count": 43,
   "id": "86e74c9a-4094-43c7-a756-537702f200b5",
   "metadata": {},
   "outputs": [],
   "source": [
    "# Export bar chart\n",
    "bar_order_frequency_age.figure.savefig(os.path.join(path, '04 Analysis','Visualizations','Task_4.10','bar_order_frequency_age_group.png'))"
   ]
  },
  {
   "cell_type": "markdown",
   "id": "bf512402-ddf7-4c25-9f92-84417a563657",
   "metadata": {},
   "source": [
    "### 3. Number of dependents Profile"
   ]
  },
  {
   "cell_type": "code",
   "execution_count": 44,
   "id": "959eeb59-f875-432a-8e5e-3d9d91c013db",
   "metadata": {},
   "outputs": [],
   "source": [
    "# Create a dependents flag\n",
    "df_IC_New.loc[df_IC_New['number_of_dependants'] == 0, 'dependents_flag'] = 'No dependents'\n",
    "df_IC_New.loc[df_IC_New['number_of_dependants'] >= 1, 'dependents_flag'] = 'Has dependents'"
   ]
  },
  {
   "cell_type": "code",
   "execution_count": 45,
   "id": "e36f0246-ab71-406c-9a41-ab434a7758c4",
   "metadata": {},
   "outputs": [
    {
     "data": {
      "text/plain": [
       "dependents_flag\n",
       "Has dependents    23224883\n",
       "No dependents      7739681\n",
       "Name: count, dtype: int64"
      ]
     },
     "execution_count": 45,
     "metadata": {},
     "output_type": "execute_result"
    }
   ],
   "source": [
    "# Check value counts\n",
    "dependent_counts = df_IC_New['dependents_flag'].value_counts(dropna = False)\n",
    "dependent_counts"
   ]
  },
  {
   "cell_type": "code",
   "execution_count": 46,
   "id": "49b6c765-d2ec-400d-9ca0-770e7c6eab71",
   "metadata": {},
   "outputs": [
    {
     "data": {
      "image/png": "[encoded data removed]",
      "text/plain": [
       "<Figure size 640x480 with 1 Axes>"
      ]
     },
     "metadata": {},
     "output_type": "display_data"
    }
   ],
   "source": [
    "# number of dependents Profile Visualization Pie Chart\n",
    "dependents_pie_chart=dependent_counts.plot.pie(autopct='%1.1f%%', labels= ['Has dependants', 'No dependants'],wedgeprops={'edgecolor':'black'})\n",
    "plt.title('Dependents Flag ')\n",
    "plt.ylabel('')\n",
    "plt.tight_layout()\n",
    "plt.show()"
   ]
  },
  {
   "cell_type": "code",
   "execution_count": 47,
   "id": "9bdd5248-6ea5-4f42-ba87-9461148a3d12",
   "metadata": {},
   "outputs": [],
   "source": [
    "# Export dpendents_flag pie Chart\n",
    "dependents_pie_chart.figure.savefig(os.path.join(path,'04 Analysis','Visualizations','Task_4.10', 'pie_chart_dependents_flag.png'))"
   ]
  },
  {
   "cell_type": "code",
   "execution_count": null,
   "id": "6583d6c6-ce38-44f0-9cf7-fbd9d777d007",
   "metadata": {},
   "outputs": [],
   "source": []
  }
 ],
 "metadata": {
  "kernelspec": {
   "display_name": "Python 3 (ipykernel)",
   "language": "python",
   "name": "python3"
  },
  "language_info": {
   "codemirror_mode": {
    "name": "ipython",
    "version": 3
   },
   "file_extension": ".py",
   "mimetype": "text/x-python",
   "name": "python",
   "nbconvert_exporter": "python",
   "pygments_lexer": "ipython3",
   "version": "3.12.7"
  }
 },
 "nbformat": 4,
 "nbformat_minor": 5
}
